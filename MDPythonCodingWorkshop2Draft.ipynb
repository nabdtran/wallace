{
  "nbformat": 4,
  "nbformat_minor": 0,
  "metadata": {
    "colab": {
      "name": "MDPythonCodingWorkshop2Draft.ipynb",
      "provenance": [],
      "collapsed_sections": [],
      "toc_visible": true
    },
    "kernelspec": {
      "name": "python3",
      "display_name": "Python 3"
    }
  },
  "cells": [
    {
      "cell_type": "markdown",
      "metadata": {
        "id": "ND1Y1kjql1Xx",
        "colab_type": "text"
      },
      "source": [
        "# Workshop #2 Worksheet\n",
        "\n",
        "Welcome to Workshop #2! We're excited to share some fun and medically relevant problems for you to work through.   \n",
        "\n",
        "Unless otherwise indicated as exercises, the code chunks in this worksheet are illustrative examples which you should run.\n",
        "\n",
        "---"
      ]
    },
    {
      "cell_type": "markdown",
      "metadata": {
        "id": "mYyIawVE8O3t",
        "colab_type": "text"
      },
      "source": [
        "# 1) Data types\n",
        "\n",
        "Different data types include:\n",
        "  * Strings\n",
        "  * Integers\n",
        "  * Floats\n",
        "  * Booleans\n",
        "\n",
        "We have already met strings. A *string* is basically a string of characters and are identified by quote marks around the characters. \n",
        "\n",
        "    \"This is a string\"\n",
        "    'This is also a string'\n",
        "\n",
        "Note that both double- and single-apostrophes are acceptable; however, you need to be consistent in your use. For example, `\"xyz'` is not a valid string.\n",
        "\n",
        "*Integers* are whole numbers (for example, `5`, `21`, `-7`)\n",
        "\n",
        "*Floats* are decimal numbers (for example, `5.3`, `3.14`, `2.0`)\n",
        "\n",
        "There are only two possible *boolean* values: `True` and `False`.\n",
        "\n",
        "You can use the `type()` function to check the type of the information stored by a variable.\n",
        "\n",
        "\n",
        "\n",
        "**Example**: \n",
        "\n",
        "The type() function checks what data type \"Ryan\" is."
      ]
    },
    {
      "cell_type": "code",
      "metadata": {
        "id": "QPvNn4WGQBdr",
        "colab_type": "code",
        "colab": {
          "base_uri": "https://localhost:8080/",
          "height": 51
        },
        "outputId": "939cce28-82db-4379-e8bc-b795fddb229a"
      },
      "source": [
        "# Strings\n",
        "Name = \"Ryan\"\n",
        "print(Name)\n",
        "print(type(Name))"
      ],
      "execution_count": 2,
      "outputs": [
        {
          "output_type": "stream",
          "text": [
            "Ryan\n",
            "<class 'str'>\n"
          ],
          "name": "stdout"
        }
      ]
    },
    {
      "cell_type": "markdown",
      "metadata": {
        "id": "AYIadJ9l-0Av",
        "colab_type": "text"
      },
      "source": [
        "**Exercise 1:**  \n",
        "1.   **Use the type() function for Integers and Floats** \n",
        "\n",
        "**For the following exercises, type your code below the instructional comments!**\n"
      ]
    },
    {
      "cell_type": "code",
      "metadata": {
        "id": "fHyJJTUYEl4x",
        "colab_type": "code",
        "colab": {
          "base_uri": "https://localhost:8080/",
          "height": 51
        },
        "outputId": "4acee59f-f0a3-46b5-b93e-c8521d50432b"
      },
      "source": [
        "# Exercise 1\n",
        "\n",
        "# Integers\n",
        "# Define an Integer variable\n",
        "my_var = 5\n",
        "# Print the variable\n",
        "print(my_var)\n",
        "# Print the type of the variable\n",
        "type(my_var)"
      ],
      "execution_count": 42,
      "outputs": [
        {
          "output_type": "stream",
          "text": [
            "5\n"
          ],
          "name": "stdout"
        },
        {
          "output_type": "execute_result",
          "data": {
            "text/plain": [
              "int"
            ]
          },
          "metadata": {
            "tags": []
          },
          "execution_count": 42
        }
      ]
    },
    {
      "cell_type": "code",
      "metadata": {
        "id": "VyY97aYlE-gz",
        "colab_type": "code",
        "colab": {
          "base_uri": "https://localhost:8080/",
          "height": 51
        },
        "outputId": "8038fc48-6a75-4538-b0fc-dda0f935c607"
      },
      "source": [
        "# Floats\n",
        "# Define a Float variable\n",
        "my_float = 5.0\n",
        "# Print the variable\n",
        "print(my_float)\n",
        "# Print the type of the variable\n",
        "type(my_float)"
      ],
      "execution_count": 43,
      "outputs": [
        {
          "output_type": "stream",
          "text": [
            "5.0\n"
          ],
          "name": "stdout"
        },
        {
          "output_type": "execute_result",
          "data": {
            "text/plain": [
              "float"
            ]
          },
          "metadata": {
            "tags": []
          },
          "execution_count": 43
        }
      ]
    },
    {
      "cell_type": "markdown",
      "metadata": {
        "id": "k2UGb--IPOQZ",
        "colab_type": "text"
      },
      "source": [
        "---\n",
        "\n",
        "# 2) Operations: the maths ones, not the surgical ones\n",
        "\n",
        "**The classic quartet:**\n",
        "- Add: `+`\n",
        "- Subtract: `-`\n",
        "- Multiply: `*`\n",
        "- Divide: `/`\n",
        "\n",
        "An example with integers:\n",
        "\n"
      ]
    },
    {
      "cell_type": "code",
      "metadata": {
        "id": "KyvCzu5kQkF-",
        "colab_type": "code",
        "colab": {
          "base_uri": "https://localhost:8080/",
          "height": 34
        },
        "outputId": "1b579076-3570-438b-9103-c2ae6858f4e9"
      },
      "source": [
        "result = 2 + 2\n",
        "print('2 + 2 =', result, '. It does not equal 5.')"
      ],
      "execution_count": 44,
      "outputs": [
        {
          "output_type": "stream",
          "text": [
            "2 + 2 = 4 . It does not equal 5.\n"
          ],
          "name": "stdout"
        }
      ]
    },
    {
      "cell_type": "markdown",
      "metadata": {
        "id": "-Tb9T9o_RUHd",
        "colab_type": "text"
      },
      "source": [
        "The rule of **BODMAS** is alive and well in Python\n",
        "\n"
      ]
    },
    {
      "cell_type": "code",
      "metadata": {
        "id": "KE_fuckKRm2y",
        "colab_type": "code",
        "colab": {
          "base_uri": "https://localhost:8080/",
          "height": 51
        },
        "outputId": "e8aa4941-43f7-4392-b4db-2f06f2091f68"
      },
      "source": [
        "print('2 x 3 + 4 = ', 2 * 3 + 4)\n",
        "print('2 x (3 + 4) = ', 2 * (3 + 4))"
      ],
      "execution_count": 45,
      "outputs": [
        {
          "output_type": "stream",
          "text": [
            "2 x 3 + 4 =  10\n",
            "2 x (3 + 4) =  14\n"
          ],
          "name": "stdout"
        }
      ]
    },
    {
      "cell_type": "markdown",
      "metadata": {
        "id": "kpDiQukdSpvn",
        "colab_type": "text"
      },
      "source": [
        "Division will produce a **float** number, regardless of whether the input operands are integers or floats."
      ]
    },
    {
      "cell_type": "code",
      "metadata": {
        "id": "scqgOnc8TAhA",
        "colab_type": "code",
        "colab": {
          "base_uri": "https://localhost:8080/",
          "height": 68
        },
        "outputId": "f8279245-b148-4db8-8e38-3c910c12c559"
      },
      "source": [
        "numerator = 10\n",
        "denominator = 5\n",
        "\n",
        "print('Type of numerator and denominator: ', type(numerator), type(denominator))\n",
        "\n",
        "print('output =', numerator/denominator)\n",
        "print('Type of output: ', type(numerator/denominator))\n"
      ],
      "execution_count": 46,
      "outputs": [
        {
          "output_type": "stream",
          "text": [
            "Type of numerator and denominator:  <class 'int'> <class 'int'>\n",
            "output = 2.0\n",
            "Type of output:  <class 'float'>\n"
          ],
          "name": "stdout"
        }
      ]
    },
    {
      "cell_type": "code",
      "metadata": {
        "id": "yN7hpW_lYzZM",
        "colab_type": "code",
        "colab": {
          "base_uri": "https://localhost:8080/",
          "height": 34
        },
        "outputId": "0a5452fb-afbb-4353-c11a-b24638bc57d3"
      },
      "source": [
        "print(10/3)"
      ],
      "execution_count": 47,
      "outputs": [
        {
          "output_type": "stream",
          "text": [
            "3.3333333333333335\n"
          ],
          "name": "stdout"
        }
      ]
    },
    {
      "cell_type": "markdown",
      "metadata": {
        "id": "WulkPoAzVPIZ",
        "colab_type": "text"
      },
      "source": [
        "We will now introduce the less popular sister of division - **floor division** `//`. This will give us a **whole number quotient** without the remainder. For instance, we note that $\\frac{17}{5}=3 \\text{ remainder } 2$. The floor division `17 // 5` will give us `3`. Try it now!\n"
      ]
    },
    {
      "cell_type": "code",
      "metadata": {
        "id": "VZfMqPzgWm0s",
        "colab_type": "code",
        "colab": {
          "base_uri": "https://localhost:8080/",
          "height": 34
        },
        "outputId": "68ae00dc-4889-4821-9c32-2e2ead9ef71f"
      },
      "source": [
        "print(17 // 5)"
      ],
      "execution_count": 18,
      "outputs": [
        {
          "output_type": "stream",
          "text": [
            "3\n"
          ],
          "name": "stdout"
        }
      ]
    },
    {
      "cell_type": "markdown",
      "metadata": {
        "id": "biO6bYroXiKO",
        "colab_type": "text"
      },
      "source": [
        "The floor division operator has a boyfriend who makes her life whole - **modulo**, denoted in python as `%`. The modulo operator returns the remainder of a division. As with the above example $\\frac{17}{5}=3 \\text{ remainder } 2$, the modulo operation `17 % 5` will give us `2`."
      ]
    },
    {
      "cell_type": "code",
      "metadata": {
        "id": "q8KTjMshXzXq",
        "colab_type": "code",
        "colab": {
          "base_uri": "https://localhost:8080/",
          "height": 34
        },
        "outputId": "351b86a9-e17b-404a-b5e2-b3f9b15655bf"
      },
      "source": [
        "print(17 % 5)"
      ],
      "execution_count": 19,
      "outputs": [
        {
          "output_type": "stream",
          "text": [
            "2\n"
          ],
          "name": "stdout"
        }
      ]
    },
    {
      "cell_type": "markdown",
      "metadata": {
        "id": "zPZgBf2TZEK2",
        "colab_type": "text"
      },
      "source": [
        "We use `**` to represent the **power** operator. Thus, to express $a^b$ in Python, we use `a ** b`.\n"
      ]
    },
    {
      "cell_type": "code",
      "metadata": {
        "id": "CiMQk-QmZFed",
        "colab_type": "code",
        "colab": {
          "base_uri": "https://localhost:8080/",
          "height": 34
        },
        "outputId": "6a6ceaea-3c2b-47ba-e00b-6c42cbd2ffa9"
      },
      "source": [
        "print(3 ** 2)"
      ],
      "execution_count": 20,
      "outputs": [
        {
          "output_type": "stream",
          "text": [
            "9\n"
          ],
          "name": "stdout"
        }
      ]
    },
    {
      "cell_type": "markdown",
      "metadata": {
        "id": "wGhUSA_oLopI",
        "colab_type": "text"
      },
      "source": [
        "**Exercise 3:**  \n",
        "**Mrs Greene is a patient on the surgical ward. She has been here for 37 days.**\n",
        "\n",
        "1.   **Use Floor Division and Modulo to determine how many weeks and days this is.**\n",
        "2.   **Print your answer**\n",
        "\n"
      ]
    },
    {
      "cell_type": "code",
      "metadata": {
        "id": "3pwTE4vlMslo",
        "colab_type": "code",
        "colab": {
          "base_uri": "https://localhost:8080/",
          "height": 102
        },
        "outputId": "adf73dee-5ea5-429e-bd0d-0bd153c8d367"
      },
      "source": [
        "# Exercise 3\n",
        "days_in_ward = 37\n",
        "weeks_in_ward = days // 7\n",
        "leftover_days = days % 7\n",
        "print(\"Mrs Greene has been here for\")\n",
        "print(days_in_ward)\n",
        "print(\"If we were to conver that into weeks and days\")\n",
        "print(weeks)\n",
        "print(leftover_days)"
      ],
      "execution_count": 51,
      "outputs": [
        {
          "output_type": "stream",
          "text": [
            "Mrs Greene has been here for\n",
            "37\n",
            "If we were to conver that into weeks and days\n",
            "5\n",
            "2\n"
          ],
          "name": "stdout"
        }
      ]
    },
    {
      "cell_type": "markdown",
      "metadata": {
        "id": "aXiOGOgXUpXp",
        "colab_type": "text"
      },
      "source": [
        "**Exercise 4:**   \n",
        "**Have a play around with your new math programming skills! Make some equations!**"
      ]
    },
    {
      "cell_type": "code",
      "metadata": {
        "id": "zFFUiOsMU-oa",
        "colab_type": "code",
        "colab": {
          "base_uri": "https://localhost:8080/",
          "height": 51
        },
        "outputId": "7b91e3dd-0cbf-4728-c671-70aa526ec3b6"
      },
      "source": [
        "# Exercise 4\n",
        "### The freedom is yours ###\n",
        "days_in_ward = 37\n",
        "weeks_in_ward = days // 7\n",
        "leftover_days = days % 7\n",
        "print(\"Mrs Greene has been here for \" + str(days_in_ward) + \" days\")\n",
        "\n",
        "print(f\"Mrs Greene has been here for {days_in_ward}\")"
      ],
      "execution_count": 59,
      "outputs": [
        {
          "output_type": "stream",
          "text": [
            "Mrs Greene has been here for 37 days\n",
            "Mrs Greene has been here for 37\n"
          ],
          "name": "stdout"
        }
      ]
    },
    {
      "cell_type": "markdown",
      "metadata": {
        "id": "6F3shUQia5Sn",
        "colab_type": "text"
      },
      "source": [
        "**Operations between different data types**\n",
        "\n",
        "It is possible to use perform operations between different data types.\n",
        "\n",
        "As introduced in Workshop 1, operator mashing between **strings** and **integers** can be used to modify the string."
      ]
    },
    {
      "cell_type": "code",
      "metadata": {
        "id": "qKf6CcFIb4NP",
        "colab_type": "code",
        "colab": {
          "base_uri": "https://localhost:8080/",
          "height": 34
        },
        "outputId": "fea2c2c6-955d-4b05-e50b-7be7e142f5c4"
      },
      "source": [
        "print('Oi'*3)"
      ],
      "execution_count": 60,
      "outputs": [
        {
          "output_type": "stream",
          "text": [
            "OiOiOi\n"
          ],
          "name": "stdout"
        }
      ]
    },
    {
      "cell_type": "markdown",
      "metadata": {
        "id": "jdAvvRTacHwt",
        "colab_type": "text"
      },
      "source": [
        "Maths operations between **floats** and **integers** will create a new **float** number."
      ]
    },
    {
      "cell_type": "code",
      "metadata": {
        "id": "6P7XgUSNcV8f",
        "colab_type": "code",
        "colab": {
          "base_uri": "https://localhost:8080/",
          "height": 68
        },
        "outputId": "a1ad06ec-88c6-4bfd-b2c9-9ca7deac20e9"
      },
      "source": [
        "the_int = 3\n",
        "the_float = 4.  # Note that the decimal point ensures that the 4 is a float\n",
        "\n",
        "print('Type of the integer 3: ', type(the_int))\n",
        "print('Type of the float 4. : ', type(the_float))\n",
        "\n",
        "# Mathematical food processor\n",
        "finished_product = (the_int + the_float) * the_float - the_int\n",
        "\n",
        "print(f'The result {finished_product} has the type {type(finished_product)}')"
      ],
      "execution_count": 61,
      "outputs": [
        {
          "output_type": "stream",
          "text": [
            "Type of the integer 3:  <class 'int'>\n",
            "Type of the float 4. :  <class 'float'>\n",
            "The result 25.0 has the type <class 'float'>\n"
          ],
          "name": "stdout"
        }
      ]
    },
    {
      "cell_type": "markdown",
      "metadata": {
        "id": "saCo1gWWdbE0",
        "colab_type": "text"
      },
      "source": [
        "**Division by zero**\n",
        "\n",
        "If you still haven't tried that yet, we applaud your self-control.\n",
        "\n",
        "However, now is the time to enjoy a little *sin*."
      ]
    },
    {
      "cell_type": "code",
      "metadata": {
        "id": "GadDCSOOeSq3",
        "colab_type": "code",
        "colab": {
          "base_uri": "https://localhost:8080/",
          "height": 181
        },
        "outputId": "79bcf25c-1a4e-4fdd-82d2-8873a48503b0"
      },
      "source": [
        "### THE RED PILL ###\n",
        "print(42/0)"
      ],
      "execution_count": 30,
      "outputs": [
        {
          "output_type": "error",
          "ename": "ZeroDivisionError",
          "evalue": "ignored",
          "traceback": [
            "\u001b[0;31m---------------------------------------------------------------------------\u001b[0m",
            "\u001b[0;31mZeroDivisionError\u001b[0m                         Traceback (most recent call last)",
            "\u001b[0;32m<ipython-input-30-8802a713aa62>\u001b[0m in \u001b[0;36m<module>\u001b[0;34m()\u001b[0m\n\u001b[1;32m      1\u001b[0m \u001b[0;31m### THE RED PILL ###\u001b[0m\u001b[0;34m\u001b[0m\u001b[0;34m\u001b[0m\u001b[0;34m\u001b[0m\u001b[0m\n\u001b[0;32m----> 2\u001b[0;31m \u001b[0mprint\u001b[0m\u001b[0;34m(\u001b[0m\u001b[0;36m42\u001b[0m\u001b[0;34m/\u001b[0m\u001b[0;36m0\u001b[0m\u001b[0;34m)\u001b[0m\u001b[0;34m\u001b[0m\u001b[0;34m\u001b[0m\u001b[0m\n\u001b[0m",
            "\u001b[0;31mZeroDivisionError\u001b[0m: division by zero"
          ]
        }
      ]
    },
    {
      "cell_type": "markdown",
      "metadata": {
        "id": "1NHDAkROeWz-",
        "colab_type": "text"
      },
      "source": [
        "Against popular belief, you do not actually create a **black hole** when you divide by zero.\n",
        "\n",
        "Try to imbue yourself in the magic of the error message. It might be confronting at first, but when broken down, all it's trying to say is:\n",
        "- Location of the error (with a helpful error pointing towards the line of code);\n",
        "- What has caused the error.\n"
      ]
    },
    {
      "cell_type": "markdown",
      "metadata": {
        "id": "9xH6bHS3_5A8",
        "colab_type": "text"
      },
      "source": [
        "---\n",
        "\n",
        "# 3) Updating Variables\n"
      ]
    },
    {
      "cell_type": "markdown",
      "metadata": {
        "id": "ihCxgmrsP3jB",
        "colab_type": "text"
      },
      "source": [
        "As previously mentioned, we use **variables** to store data values. This is called **variable assignment**. The data could be anything - strings, integers, numbers, etc.\n",
        "\n",
        "Just imagine the `=` symbol being a virtual hand that places the data value on the **right hand side** into the box on the **left hand side**.\n",
        "\n",
        "    # Assigning variable - putting the value in the box\n",
        "    variable = 'value'\n",
        "\n",
        "\"And what if the value of our data changes?\"\n",
        "\n",
        "We can **update** the value in our **variable** container at any stage by assigning a new value:\n",
        "\n",
        "    # Update the variable with our new value\n",
        "    variable = 'new value'"
      ]
    },
    {
      "cell_type": "markdown",
      "metadata": {
        "id": "nWolZ900AQrf",
        "colab_type": "text"
      },
      "source": [
        "**Example:**  \n",
        "You are the intern at a busy metropolitan ED. You ask for the patient's name, take a beautiful history and exam and you're ready to type up the admission note. You start typing the admission note of the patient \"Jane\" but you realise you have forgotten to ask her last name!"
      ]
    },
    {
      "cell_type": "code",
      "metadata": {
        "id": "tci-9-fsAP4V",
        "colab_type": "code",
        "colab": {
          "base_uri": "https://localhost:8080/",
          "height": 34
        },
        "outputId": "d4985d62-a22c-45e4-9e8a-8cbe5245b98d"
      },
      "source": [
        "#Jane\n",
        "patientName = \"Jane\"\n",
        "\n",
        "#Now to update her name\n",
        "patientName = \"Jane Smith\"\n",
        "print(patientName)"
      ],
      "execution_count": 31,
      "outputs": [
        {
          "output_type": "stream",
          "text": [
            "Jane Smith\n"
          ],
          "name": "stdout"
        }
      ]
    },
    {
      "cell_type": "code",
      "metadata": {
        "id": "YQq94-XAAHDt",
        "colab_type": "code",
        "colab": {
          "base_uri": "https://localhost:8080/",
          "height": 34
        },
        "outputId": "30227085-fdc8-47de-9684-936c61673304"
      },
      "source": [
        "#Suddenly, all the patients are either discharged from ED or moved to the ward. \n",
        "#With all this extra time, you perform hand hygiene, \n",
        "#you whip your $800 coffee grinder out of your bag, \n",
        "#grind some beans to warm up your hands, \n",
        "#crack your knuckles...\n",
        "#And now it's time to lay down some fancy coding on the hospital computers >:)\n",
        "patientName = \"Jane\"\n",
        "patientName = patientName + \" Smith\" #concatenation yeah boi\n",
        "print(patientName)"
      ],
      "execution_count": 32,
      "outputs": [
        {
          "output_type": "stream",
          "text": [
            "Jane Smith\n"
          ],
          "name": "stdout"
        }
      ]
    },
    {
      "cell_type": "markdown",
      "metadata": {
        "id": "tXQ_lkUCC9fs",
        "colab_type": "text"
      },
      "source": [
        "**Example:**  \n",
        "It's 3pm in the ED. The consultant from the afternoon shift arrives. His name is Dr Fibonacci. You decide that you want to impress him...\n",
        "\n",
        "(Note that variables defined in early chunks carry over into later chunks) "
      ]
    },
    {
      "cell_type": "code",
      "metadata": {
        "id": "dQcDOMPZDGJ5",
        "colab_type": "code",
        "colab": {
          "base_uri": "https://localhost:8080/",
          "height": 51
        },
        "outputId": "01e95380-48fc-4cc2-a4b8-eb607eadf66c"
      },
      "source": [
        "a = 1\n",
        "b = 1\n",
        "print(a)\n",
        "print(b)\n",
        "# Nothing too surprising here"
      ],
      "execution_count": 33,
      "outputs": [
        {
          "output_type": "stream",
          "text": [
            "1\n",
            "1\n"
          ],
          "name": "stdout"
        }
      ]
    },
    {
      "cell_type": "code",
      "metadata": {
        "id": "cMlAAlahXbwW",
        "colab_type": "code",
        "colab": {
          "base_uri": "https://localhost:8080/",
          "height": 34
        },
        "outputId": "6949a19f-1a43-4d6c-ffd1-2933f92f0ee3"
      },
      "source": [
        "c = a + b\n",
        "print(c)\n",
        "# Yup, this makes sense too"
      ],
      "execution_count": 34,
      "outputs": [
        {
          "output_type": "stream",
          "text": [
            "2\n"
          ],
          "name": "stdout"
        }
      ]
    },
    {
      "cell_type": "code",
      "metadata": {
        "id": "qpoZraQVXdWE",
        "colab_type": "code",
        "colab": {
          "base_uri": "https://localhost:8080/",
          "height": 34
        },
        "outputId": "a380398f-8cde-4191-9e3b-f406b8fd4421"
      },
      "source": [
        "a = b       # Making 'a' take the same value as the old 'b' (ie. 1)\n",
        "b = c       # Making 'b' take the same value as the old 'c' (ie. 2)\n",
        "c = a + b   # Making 'c' take the value of the sum of the new 'a' and 'b' (ie. 1+2)\n",
        "print(c)"
      ],
      "execution_count": 35,
      "outputs": [
        {
          "output_type": "stream",
          "text": [
            "3\n"
          ],
          "name": "stdout"
        }
      ]
    },
    {
      "cell_type": "code",
      "metadata": {
        "id": "iEptBe_AXen2",
        "colab_type": "code",
        "colab": {
          "base_uri": "https://localhost:8080/",
          "height": 34
        },
        "outputId": "a918a712-d7e5-4e78-fc78-9721af655ff3"
      },
      "source": [
        "a = b\n",
        "b = c\n",
        "c = a + b\n",
        "print(c)\n",
        "# This is an identical code-chunk to the above, but note how the results change."
      ],
      "execution_count": 36,
      "outputs": [
        {
          "output_type": "stream",
          "text": [
            "5\n"
          ],
          "name": "stdout"
        }
      ]
    },
    {
      "cell_type": "code",
      "metadata": {
        "id": "4pJZCTRFYFzc",
        "colab_type": "code",
        "colab": {
          "base_uri": "https://localhost:8080/",
          "height": 34
        },
        "outputId": "44469129-cef4-44d6-d873-3cb071b3a31b"
      },
      "source": [
        "a = b\n",
        "b = c\n",
        "c = a + b\n",
        "print(c)\n",
        "# Once again, this is an identical code-chunk to the above, but note how the results change."
      ],
      "execution_count": 37,
      "outputs": [
        {
          "output_type": "stream",
          "text": [
            "8\n"
          ],
          "name": "stdout"
        }
      ]
    },
    {
      "cell_type": "markdown",
      "metadata": {
        "id": "UPTTOgaKs4x5",
        "colab_type": "text"
      },
      "source": [
        "Note that `=` is **not** the equals symbol we all know and love in maths. It is strictly used for assigning values to a variable. To make this more explicit: \n",
        "*  In maths, `=` is a symbol indicating logical equivalence: that is, $a=b$ is a statement that $a$ and $b$ are equivalent.\n",
        "*  In Python, `=` is a symbol telling Python to take action: that is, `a = b` tells Python to assign the value of `b` to the variable `a`. It is **not** a statement of equivalence.\n",
        "\n",
        "We can also update a variable with reference to it's old value. For example, `x = x + 1` means to assign to `x` the value of \"the old value of `x` plus $1$\". In a sense, we've overwritten the variable `x` with the next number up. This sort of process is known as \"iteration\"."
      ]
    },
    {
      "cell_type": "code",
      "metadata": {
        "id": "QacmnanPY5Kz",
        "colab_type": "code",
        "colab": {
          "base_uri": "https://localhost:8080/",
          "height": 102
        },
        "outputId": "74faf0b7-ed2c-4b50-ebf3-7fc249c27df4"
      },
      "source": [
        "x = 0       # defining the initial x to be 0\n",
        "print(x)\n",
        "\n",
        "x = x + 1   # overwriting x with 1\n",
        "print(x)\n",
        "\n",
        "x = x + 1   # overwriting x with 1+1\n",
        "print(x)\n",
        "\n",
        "x = x + 1   # overwriting x with 2+1\n",
        "print(x)\n",
        "\n",
        "x = x + 1   # overwriting x with 3+1\n",
        "print(x)"
      ],
      "execution_count": 67,
      "outputs": [
        {
          "output_type": "stream",
          "text": [
            "0\n",
            "1\n",
            "2\n",
            "3\n",
            "4\n"
          ],
          "name": "stdout"
        }
      ]
    },
    {
      "cell_type": "markdown",
      "metadata": {
        "id": "yR4Z2N-HY5fg",
        "colab_type": "text"
      },
      "source": [
        "If your inner mathematician is screaming in objection, we offer you a couple sacrilegious alternatives for **updating variables**:\n",
        "\n",
        "    # Instead of doing this x = x + 5, do:\n",
        "    x += 5\n",
        "\n",
        "It comes with all the possible flavours:\n",
        "- `x -= 5`  is identical to: `x = x - 5`\n",
        "- `x *= 5`  is identical to: `x = x * 5`\n",
        "- `x /= 5`  is identical to: `x = x / 5`\n",
        "- `x //= 5`  is identical to: `x = x // 5`\n",
        "- `x %= 5`  is identical to: `x = x % 5`\n",
        "- `x **= 5`  is identical to: `x = x ** 5`"
      ]
    },
    {
      "cell_type": "code",
      "metadata": {
        "id": "mxgRBVi6tDVL",
        "colab_type": "code",
        "colab": {
          "base_uri": "https://localhost:8080/",
          "height": 51
        },
        "outputId": "201ef5ba-a534-48a9-c5e0-06a1457de8bd"
      },
      "source": [
        "x = 3\n",
        "print('The original x:', x)\n",
        "\n",
        "x /= 5\n",
        "print('The new x given by x /= 5 is:', x)"
      ],
      "execution_count": 68,
      "outputs": [
        {
          "output_type": "stream",
          "text": [
            "The original x: 3\n",
            "The new x given by x /= 5 is: 0.6\n"
          ],
          "name": "stdout"
        }
      ]
    },
    {
      "cell_type": "markdown",
      "metadata": {
        "id": "REEZ_7jxNIMM",
        "colab_type": "text"
      },
      "source": [
        "**Exercise 5:**  \n",
        "**The nurse asks you, a keen medical student, to update the current oxygen saturation (SpO2) in a COPD patient Mr Kunz on the Respiratory Ward. The old SpO2 from 1 hour ago was 89%. The nurse just recorded a new SpO2 of 93% this hour.**\n",
        "\n",
        "1.   **Record the SpO2 (in %) from an hour ago in a variable called `O2sat`**\n",
        "2.   **Print `O2sat`**\n",
        "3.   **Update the SpO2 with the current reading.**\n",
        "4.   **Print `O2sat`**\n",
        "\n"
      ]
    },
    {
      "cell_type": "code",
      "metadata": {
        "id": "csX_W7h1Oj1k",
        "colab_type": "code",
        "colab": {
          "base_uri": "https://localhost:8080/",
          "height": 51
        },
        "outputId": "81c0d94f-5e8b-4399-c989-aa57fcbe2c62"
      },
      "source": [
        "# Exercise 5\n",
        "# Mr Kunz\n",
        "O2sat = 89\n",
        "print(O2sat)\n",
        "O2sat = 93\n",
        "print(O2sat)\n"
      ],
      "execution_count": 69,
      "outputs": [
        {
          "output_type": "stream",
          "text": [
            "89\n",
            "93\n"
          ],
          "name": "stdout"
        }
      ]
    },
    {
      "cell_type": "markdown",
      "metadata": {
        "id": "NYtQ28VmQ3uU",
        "colab_type": "text"
      },
      "source": [
        "**Exercise 6:**  \n",
        "**Yesterday morning, Mr Kunz's weight was 97.2kg. Having started on frusemide, his weight has dropped 4.5kg by this morning.**\n",
        "\n",
        "\n",
        "1.   **Express his old weight (in kg) in a variable `weightKunz`**\n",
        "2.   **Print `weightKunz`**\n",
        "3.   **Update the variable `weightKunz` using the format `weightKunz = weightKunz + y` where `y` is the change that has happened.** \n",
        "4.   **Print `weightKunz`**"
      ]
    },
    {
      "cell_type": "code",
      "metadata": {
        "id": "WLAfQ5u8Q3P3",
        "colab_type": "code",
        "colab": {
          "base_uri": "https://localhost:8080/",
          "height": 51
        },
        "outputId": "32c7b42b-43b7-484e-c0a9-c21234d704b0"
      },
      "source": [
        "# Exercise 6\n",
        "# Mr Kunz's weight\n",
        "weightKunz = 97.2\n",
        "print(weightKunz)\n",
        "weightKunz = weightKunz - 4.5\n",
        "print(weightKunz)"
      ],
      "execution_count": 41,
      "outputs": [
        {
          "output_type": "stream",
          "text": [
            "97.2\n",
            "92.7\n"
          ],
          "name": "stdout"
        }
      ]
    },
    {
      "cell_type": "markdown",
      "metadata": {
        "id": "HVS-W81cU5z5",
        "colab_type": "text"
      },
      "source": [
        "**Exercise 7:**  \n",
        "**You are spending the morning in the pathology lab and the pathologist introduces you to a mystical bacteria that grows in a multiplicative fashion, meaning that every hour, the number of bacteria on the dish is $5\\times$ what was present 1 hour ago. If at hour 0, the number of bacteria on the dish is 4 colonies, use the `*=` operator to print how many bacteria are on the dish at 1, 2, 3, 4 and 5 hours.**\n",
        "\n",
        "\n"
      ]
    },
    {
      "cell_type": "code",
      "metadata": {
        "id": "ueSCGojQWS-9",
        "colab_type": "code",
        "colab": {
          "base_uri": "https://localhost:8080/",
          "height": 102
        },
        "outputId": "afbe77b9-5857-4dd2-9333-b7e38f8e85b8"
      },
      "source": [
        "# Exercise 7\n",
        "# Mystical Bacteria\n",
        "mystical_bacteria_count = 4\n",
        "hour_multiplier = 5\n",
        "\n",
        "mystical_bacteria_count *= hour_multiplier\n",
        "print(mystical_bacteria_count * 1)\n",
        "print(mystical_bacteria_count * 2)\n",
        "print(mystical_bacteria_count * 3)\n",
        "print(mystical_bacteria_count * 4)\n",
        "print(mystical_bacteria_count * 5)"
      ],
      "execution_count": 74,
      "outputs": [
        {
          "output_type": "stream",
          "text": [
            "20\n",
            "40\n",
            "60\n",
            "80\n",
            "100\n"
          ],
          "name": "stdout"
        }
      ]
    },
    {
      "cell_type": "markdown",
      "metadata": {
        "id": "6n3WT8jGWaCS",
        "colab_type": "text"
      },
      "source": [
        "**Exercise 8:**  \n",
        "**The half-life of a drug is the time taken for half the drug to be eliminated from the body. \n",
        "Ms Harris received 100 units of Drug A at hour 0. The half-life of this drug is 20 minutes. If the level of drug is recorded every 20 minutes, use `/=` and other maths to work out how long it will take to record a level of drug below 5 units for the first time.**"
      ]
    },
    {
      "cell_type": "code",
      "metadata": {
        "id": "oALsMwZudEhu",
        "colab_type": "code",
        "colab": {
          "base_uri": "https://localhost:8080/",
          "height": 119
        },
        "outputId": "b786db49-9eea-4083-a5f6-23d8e26500f8"
      },
      "source": [
        "# Exercise 8\n",
        "# Half-life\n",
        "drug_a_units = 100\n",
        "drug_a_halflife = 20\n",
        "hours_passed = 0\n",
        "\n",
        "drug_a_units = drug_a_units / 2\n",
        "hours_passed += 1\n",
        "print(drug_a_units)\n",
        "drug_a_units = drug_a_units / 2\n",
        "hours_passed += 1\n",
        "print(drug_a_units)\n",
        "drug_a_units = drug_a_units / 2\n",
        "hours_passed += 1\n",
        "print(drug_a_units)\n",
        "drug_a_units = drug_a_units / 2\n",
        "hours_passed += 1\n",
        "print(drug_a_units)\n",
        "drug_a_units = drug_a_units / 2\n",
        "hours_passed += 1\n",
        "print(drug_a_units)\n",
        "print(hours_passed)\n",
        "\n"
      ],
      "execution_count": 85,
      "outputs": [
        {
          "output_type": "stream",
          "text": [
            "50.0\n",
            "25.0\n",
            "12.5\n",
            "6.25\n",
            "3.125\n",
            "5\n"
          ],
          "name": "stdout"
        }
      ]
    },
    {
      "cell_type": "markdown",
      "metadata": {
        "id": "muynxkUzdhjB",
        "colab_type": "text"
      },
      "source": [
        "**Exercise 9:**  \n",
        "**During the first few hours of a night shift in an ED, 3 patients discharge home and 1.5 patients are admitted to the wards every hour. At the start of the night shift at 6pm one evening, there are 13 patients in the ED.**\n",
        " \n",
        "\n",
        "1.    **Print the number of patients in the ED initially at 6pm.**\n",
        "2.    **Print how many patients will be in the ward at 8pm, 10pm and midnight**\n",
        "\n"
      ]
    },
    {
      "cell_type": "code",
      "metadata": {
        "id": "JOSdWcBU96tI",
        "colab_type": "code",
        "colab": {
          "base_uri": "https://localhost:8080/",
          "height": 238
        },
        "outputId": "2bd5c27e-9a90-405c-e374-adf76fc40c87"
      },
      "source": [
        "# Exercise 9\n",
        "# ED Night Shift\n",
        "total_patients = 13\n",
        "patients_leave_per_hour = 3\n",
        "patients_come_per_hour = 1.5\n",
        "time = 6\n",
        "\n",
        "print(total_patients)\n",
        "total_patients -= patients_leave_per_hour\n",
        "total_patients += patients_come_per_hour\n",
        "time += 1\n",
        "print(total_patients)\n",
        "print(time)\n",
        "total_patients -= patients_leave_per_hour\n",
        "total_patients += patients_come_per_hour\n",
        "time += 1\n",
        "print(total_patients)\n",
        "print(time)\n",
        "total_patients -= patients_leave_per_hour\n",
        "total_patients += patients_come_per_hour\n",
        "time += 1\n",
        "print(total_patients)\n",
        "print(time)\n",
        "total_patients -= patients_leave_per_hour\n",
        "total_patients += patients_come_per_hour\n",
        "time += 1\n",
        "print(total_patients)\n",
        "print(time)\n",
        "total_patients -= patients_leave_per_hour\n",
        "total_patients += patients_come_per_hour\n",
        "time += 1\n",
        "print(total_patients)\n",
        "print(time)\n",
        "total_patients -= patients_leave_per_hour\n",
        "total_patients += patients_come_per_hour\n",
        "time += 1\n",
        "print(total_patients)\n",
        "print(time)"
      ],
      "execution_count": 93,
      "outputs": [
        {
          "output_type": "stream",
          "text": [
            "13\n",
            "11.5\n",
            "7\n",
            "10.0\n",
            "8\n",
            "8.5\n",
            "9\n",
            "7.0\n",
            "10\n",
            "5.5\n",
            "11\n",
            "4.0\n",
            "12\n"
          ],
          "name": "stdout"
        }
      ]
    },
    {
      "cell_type": "markdown",
      "metadata": {
        "id": "B4G4LC4QmH9a",
        "colab_type": "text"
      },
      "source": [
        "**Exercise 10:**  \n",
        "**A patient has been in hospital for a number of days. As us humans intuitively think in weeks and days rather than just days, create a calculator that takes in a number of total days and outputs how many weeks and days that is equal to. For example, 58 days is equal to 8 weeks and 2 days.**\n",
        "\n",
        "1.    **Create a variable called `totalDays` and assign to it some integer between $20$ and $100$.**\n",
        "2.    **Calculate `weeks` and `days` from `totalDays`. Print `weeks` and `days`.**\n"
      ]
    },
    {
      "cell_type": "code",
      "metadata": {
        "id": "D4C8-9k_nEuH",
        "colab_type": "code",
        "colab": {
          "base_uri": "https://localhost:8080/",
          "height": 68
        },
        "outputId": "181f5c69-977f-49a6-89f7-23b2c103b51c"
      },
      "source": [
        "# Exercise 10\n",
        "total_days = 37\n",
        "weeks_in_ward = days // 7\n",
        "leftover_days = days % 7\n",
        "\n",
        "print(total_days)\n",
        "\n",
        "print(weeks)\n",
        "print(leftover_days)"
      ],
      "execution_count": 94,
      "outputs": [
        {
          "output_type": "stream",
          "text": [
            "37\n",
            "5\n",
            "2\n"
          ],
          "name": "stdout"
        }
      ]
    },
    {
      "cell_type": "markdown",
      "metadata": {
        "id": "YCLnLkyEGXHx",
        "colab_type": "text"
      },
      "source": [
        "---\n",
        "\n",
        "# 4) Data Type Conversions\n",
        "\n",
        "If appropriate, you can convert one data type to another data type. \n",
        "  * `str(x)` converts `x` to a string\n",
        "  * `int(x)` converts `x` to an integer\n",
        "  * `float(x)` converts `x` to a float\n",
        "  * `bool(x)` converts `x` to a boolean\n",
        "\n",
        "For example running \n",
        "    \n",
        "    int(\"5\")\n",
        "\n",
        "returns `5`, while running\n",
        "\n",
        "    str(5)\n",
        "    \n",
        "returns `\"5\"`."
      ]
    },
    {
      "cell_type": "code",
      "metadata": {
        "id": "c-Tjg1cTGZfM",
        "colab_type": "code",
        "colab": {
          "base_uri": "https://localhost:8080/",
          "height": 119
        },
        "outputId": "e5b9924e-398e-4fcf-e98b-6fdcd5be49be"
      },
      "source": [
        "Age = 65 # in years\n",
        "print(Age)\n",
        "print(type(Age)) # Integer type\n",
        "\n",
        "# Convert to string\n",
        "s_Age = str(Age)\n",
        "print(s_Age)\n",
        "print(type(s_Age))\n",
        "\n",
        "# Convert to float\n",
        "f_Age = float(Age)\n",
        "print(f_Age)\n",
        "print(type(f_Age))"
      ],
      "execution_count": 95,
      "outputs": [
        {
          "output_type": "stream",
          "text": [
            "65\n",
            "<class 'int'>\n",
            "65\n",
            "<class 'str'>\n",
            "65.0\n",
            "<class 'float'>\n"
          ],
          "name": "stdout"
        }
      ]
    },
    {
      "cell_type": "code",
      "metadata": {
        "id": "VaT0E4O4GzqK",
        "colab_type": "code",
        "colab": {
          "base_uri": "https://localhost:8080/",
          "height": 85
        },
        "outputId": "5db5897d-52ff-45d9-c1a5-786f6e1b98b9"
      },
      "source": [
        "Height = 1.70 # in metres\n",
        "print(Height)\n",
        "print(type(Height)) # Float type\n",
        "\n",
        "# Convert to integer (note that the decimals are truncated)\n",
        "i_Height = int(Height)\n",
        "print(i_Height)\n",
        "print(type(i_Height))"
      ],
      "execution_count": 96,
      "outputs": [
        {
          "output_type": "stream",
          "text": [
            "1.7\n",
            "<class 'float'>\n",
            "1\n",
            "<class 'int'>\n"
          ],
          "name": "stdout"
        }
      ]
    },
    {
      "cell_type": "markdown",
      "metadata": {
        "id": "v4PSMlcRLGjv",
        "colab_type": "text"
      },
      "source": [
        "This becomes **particularly important** when you are retrieving user values from the **input** function, as the data type of the output will always be string."
      ]
    },
    {
      "cell_type": "code",
      "metadata": {
        "id": "DdXSVf7CLhGp",
        "colab_type": "code",
        "colab": {
          "base_uri": "https://localhost:8080/",
          "height": 85
        },
        "outputId": "10f5a4f2-aab1-4a9c-e2cc-ac4a04da5b37"
      },
      "source": [
        "should_be_a_number_but_actually_a_string = input('How many doctors does it take to change a lightbulb? (0 to 100): ')\n",
        "print('Input type: ', type(should_be_a_number_but_actually_a_string))\n",
        "\n",
        "# Convert the data into an integer to allow mathematical computation\n",
        "now_a_number = int(should_be_a_number_but_actually_a_string)\n",
        "print('Type after conversion: ', type(now_a_number))\n",
        "\n",
        "# Mathematicians here will be proud\n",
        "print('That would be', now_a_number // 2, 'pairs of doctors.')"
      ],
      "execution_count": 98,
      "outputs": [
        {
          "output_type": "stream",
          "text": [
            "How many doctors does it take to change a lightbulb? (0 to 100): 2\n",
            "Input type:  <class 'str'>\n",
            "Type after conversion:  <class 'int'>\n",
            "That would be 1 pairs of doctors.\n"
          ],
          "name": "stdout"
        }
      ]
    },
    {
      "cell_type": "markdown",
      "metadata": {
        "id": "53ihU0HtIu1r",
        "colab_type": "text"
      },
      "source": [
        "Note that some data values cannot be converted to another data value. For instance, trying to convert `\"Text\"` to an integer using `int(\"Text\")` returns an error!"
      ]
    },
    {
      "cell_type": "code",
      "metadata": {
        "id": "TGDyZN89I0o4",
        "colab_type": "code",
        "colab": {
          "base_uri": "https://localhost:8080/",
          "height": 181
        },
        "outputId": "1d390d29-9c1f-48ab-ad3f-ca2e1370d806"
      },
      "source": [
        "# Some good ol' error messages\n",
        "int('troublemaker')"
      ],
      "execution_count": 99,
      "outputs": [
        {
          "output_type": "error",
          "ename": "ValueError",
          "evalue": "ignored",
          "traceback": [
            "\u001b[0;31m---------------------------------------------------------------------------\u001b[0m",
            "\u001b[0;31mValueError\u001b[0m                                Traceback (most recent call last)",
            "\u001b[0;32m<ipython-input-99-ffb7a74e94c9>\u001b[0m in \u001b[0;36m<module>\u001b[0;34m()\u001b[0m\n\u001b[1;32m      1\u001b[0m \u001b[0;31m# Some good ol' error messages\u001b[0m\u001b[0;34m\u001b[0m\u001b[0;34m\u001b[0m\u001b[0;34m\u001b[0m\u001b[0m\n\u001b[0;32m----> 2\u001b[0;31m \u001b[0mint\u001b[0m\u001b[0;34m(\u001b[0m\u001b[0;34m'troublemaker'\u001b[0m\u001b[0;34m)\u001b[0m\u001b[0;34m\u001b[0m\u001b[0;34m\u001b[0m\u001b[0m\n\u001b[0m",
            "\u001b[0;31mValueError\u001b[0m: invalid literal for int() with base 10: 'troublemaker'"
          ]
        }
      ]
    },
    {
      "cell_type": "markdown",
      "metadata": {
        "id": "69oP28bCjgLc",
        "colab_type": "text"
      },
      "source": [
        "**Exercise 11:**  \n",
        " \n",
        "1.   **Run the following code chunk. You should see an error.**\n",
        "2.   **Using the feedback from the error message, make the necessary alteration to the code in the chunk below by using one of the following functions: `str()`, `int()` or `float()`**\n",
        "\n"
      ]
    },
    {
      "cell_type": "code",
      "metadata": {
        "id": "8OW5e3O8j1I9",
        "colab_type": "code",
        "colab": {
          "base_uri": "https://localhost:8080/",
          "height": 34
        },
        "outputId": "7ebdc2fe-4641-4b4c-eed8-3afb55f98a85"
      },
      "source": [
        "# Exercise 11\n",
        "# Fixing it up\n",
        "x = \"I am aged \"\n",
        "a = 23\n",
        "a_to_string = str(a)\n",
        "print(x + a_to_string)"
      ],
      "execution_count": 101,
      "outputs": [
        {
          "output_type": "stream",
          "text": [
            "I am aged 23\n"
          ],
          "name": "stdout"
        }
      ]
    },
    {
      "cell_type": "markdown",
      "metadata": {
        "id": "XjCNmSYDcy1o",
        "colab_type": "text"
      },
      "source": [
        "**Exercise 12A: Can you figure out why `a // b` returns identical results to `int(a / b)`? If you want, use the following code chunk to play around.**"
      ]
    },
    {
      "cell_type": "code",
      "metadata": {
        "id": "XUYnoUT_dA3_",
        "colab_type": "code",
        "colab": {
          "base_uri": "https://localhost:8080/",
          "height": 68
        },
        "outputId": "3639d5ba-e52f-467b-9f4d-bf48bb8bcaa5"
      },
      "source": [
        "# Exercise 12A\n",
        "\n",
        "a = 23\n",
        "b = 2\n",
        "print(a // b) # identical\n",
        "print(a / b)\n",
        "print(int(a / b)) # identical\n",
        "\n",
        "# Float to int conversion"
      ],
      "execution_count": 103,
      "outputs": [
        {
          "output_type": "stream",
          "text": [
            "11\n",
            "11.5\n",
            "11\n"
          ],
          "name": "stdout"
        }
      ]
    },
    {
      "cell_type": "markdown",
      "metadata": {
        "id": "hL03L0ptnXMH",
        "colab_type": "text"
      },
      "source": [
        "**Exercise 12B: Can you figure out why `a % b` returns identical results to `a - (a // b) * b`? If you want, use the following code chunk to play around.**"
      ]
    },
    {
      "cell_type": "code",
      "metadata": {
        "id": "GQXhy-dpnmAS",
        "colab_type": "code",
        "colab": {
          "base_uri": "https://localhost:8080/",
          "height": 51
        },
        "outputId": "ebf81c44-dde7-49d5-efdd-2aaa4fef2f5b"
      },
      "source": [
        "# Exercise 12B\n",
        "\n",
        "a = 23\n",
        "b = 5\n",
        "print(a % b) # identical\n",
        "print(a - (a // b) * b) # identical\n",
        "\n",
        "# "
      ],
      "execution_count": 105,
      "outputs": [
        {
          "output_type": "stream",
          "text": [
            "3\n",
            "3\n"
          ],
          "name": "stdout"
        }
      ]
    },
    {
      "cell_type": "markdown",
      "metadata": {
        "id": "Yxslzu-CxZjY",
        "colab_type": "text"
      },
      "source": [
        "---\n",
        "\n",
        "# 5) Putting it all together\n",
        "\n",
        "Let's put what we've learnt all together and make some useful tools!\n",
        "\n",
        "We will try to create some calculators based on some medical equations.\n"
      ]
    },
    {
      "cell_type": "markdown",
      "metadata": {
        "id": "_QDJuFazy5vi",
        "colab_type": "text"
      },
      "source": [
        "**Exercise 13: First, a recap. What is the data type of an input variable?**  \n",
        "1.   **Create an input variable called `patientAge` that asks for the patient's age.**\n",
        "2.   **Print `patientAge`.**\n",
        "3.   **Print the data type of `patientAge`.** \n",
        "\n",
        "\n",
        "**Note how the data type of an input variable is always a string even if we input digits into `patientAge`!**"
      ]
    },
    {
      "cell_type": "code",
      "metadata": {
        "id": "t47g_XZC0_Qa",
        "colab_type": "code",
        "colab": {
          "base_uri": "https://localhost:8080/",
          "height": 68
        },
        "outputId": "f23a43bb-fee9-4b58-c567-8f50589946dd"
      },
      "source": [
        "# Exercise 13\n",
        "# patientAge\n",
        "patientAge = input(\"my patient is of age: \")\n",
        "print(patientAge)\n",
        "print(type(patientAge))"
      ],
      "execution_count": 108,
      "outputs": [
        {
          "output_type": "stream",
          "text": [
            "my patient is of age: 33\n",
            "33\n",
            "<class 'str'>\n"
          ],
          "name": "stdout"
        }
      ]
    },
    {
      "cell_type": "markdown",
      "metadata": {
        "id": "kEfS9RBeKlpP",
        "colab_type": "text"
      },
      "source": [
        "**Exercise 14: Convert the data type of an input variable to an integer type** \n",
        "1.   **Create an input variable called `patientAge` that asks for the patient's age.**\n",
        "2.   **Print `patientAge`**\n",
        "3.   **Print the data type of `patientAge`** \n",
        "4.   **Convert `patientAge` to an integer using `int()`**\n",
        "5.   **Print the data type of `patientAge`**"
      ]
    },
    {
      "cell_type": "code",
      "metadata": {
        "id": "B3NNKYrBFNCv",
        "colab_type": "code",
        "colab": {
          "base_uri": "https://localhost:8080/",
          "height": 85
        },
        "outputId": "25f67e5b-0b2f-4022-8001-67be89ebae85"
      },
      "source": [
        "# Exercise 14\n",
        "# patientAge\n",
        "patientAge = input(\"my patient is of age: \")\n",
        "print(patientAge)\n",
        "print(type(patientAge))\n",
        "patientAge = int(patientAge)\n",
        "print(type(patientAge))"
      ],
      "execution_count": 109,
      "outputs": [
        {
          "output_type": "stream",
          "text": [
            "my patient is of age: 10\n",
            "10\n",
            "<class 'str'>\n",
            "<class 'int'>\n"
          ],
          "name": "stdout"
        }
      ]
    },
    {
      "cell_type": "markdown",
      "metadata": {
        "id": "zrbfxULeXqgD",
        "colab_type": "text"
      },
      "source": [
        "**Exercise 15: BMI Calculator**  \n",
        "\n",
        "1.   **Create a height variable, assign your height (m) to it.**  \n",
        "2.   **Create a weight variable, assign your weight (kg) to it.** \n",
        "3.   **Create a BMI variable, assign it the mathematical formula of weight divided by height squared**\n",
        "4.   **Write a print statement that says \"My BMI is (insert BMI here)\"**"
      ]
    },
    {
      "cell_type": "code",
      "metadata": {
        "id": "9VyU6YeoYZBW",
        "colab_type": "code",
        "colab": {
          "base_uri": "https://localhost:8080/",
          "height": 34
        },
        "outputId": "67825a13-48c6-41b0-b96d-e0f52d416651"
      },
      "source": [
        "# Exercise 15\n",
        "# BMI Calculator\n",
        "height = 180\n",
        "weight = 80\n",
        "\n",
        "bmi = weight / height ** 2\n",
        "print(bmi)"
      ],
      "execution_count": 111,
      "outputs": [
        {
          "output_type": "stream",
          "text": [
            "0.0024691358024691358\n"
          ],
          "name": "stdout"
        }
      ]
    },
    {
      "cell_type": "markdown",
      "metadata": {
        "id": "hJn4S2ClvNJK",
        "colab_type": "text"
      },
      "source": [
        "**Exercise 16: BMI Calculator with inputs** \n",
        "1.   **Copy-paste your BMI Calculator from above.**\n",
        "2.   **Alter your code to ask for your input height and weight.**\n",
        "**Remember to convert your input variables into the appropriate data type!**\n",
        "\n"
      ]
    },
    {
      "cell_type": "code",
      "metadata": {
        "id": "KoiAgnIfv2GO",
        "colab_type": "code",
        "colab": {}
      },
      "source": [
        "# Exercise 16\n",
        "# BMI Calculator with inputs\n"
      ],
      "execution_count": null,
      "outputs": []
    },
    {
      "cell_type": "markdown",
      "metadata": {
        "id": "SWSwKrppwHmp",
        "colab_type": "text"
      },
      "source": [
        "**Exercise 17: Mean Arterial Pressure Calculator with inputs**  \n",
        "**Mean arterial pressure is calculated as follows:** $$\\text{MAP}=\\frac{\\text{SystolicBP} + 2\\times\\text{DiastolicBP}}{3}$$\n",
        "\n",
        "\n",
        "1.   **Create a calculator that calculates the MAP from two inputs: the systolic and diastolic BPs** \n",
        "2.   **If the MAP generated is a float, use the `round()` function to round that float to the nearest integer.**   \n",
        "3.   **Print the rounded Mean Arterial Pressure**"
      ]
    },
    {
      "cell_type": "code",
      "metadata": {
        "id": "BIOeVzpsx8wH",
        "colab_type": "code",
        "colab": {}
      },
      "source": [
        "# Exercise 17\n",
        "# Mean Arterial Pressure Calculator"
      ],
      "execution_count": null,
      "outputs": []
    },
    {
      "cell_type": "markdown",
      "metadata": {
        "id": "9sdgWDUOd1w-",
        "colab_type": "text"
      },
      "source": [
        "Note that when applied to floats, the `round()` and `int()` functions are different because `int()` *always* rounds down, while `round()` can round either down or up depending on the specific float."
      ]
    },
    {
      "cell_type": "markdown",
      "metadata": {
        "id": "LxxuL1a4yEa1",
        "colab_type": "text"
      },
      "source": [
        "##**eGFR based on the MDRD equation**\n",
        "\n",
        "\\begin{align}\n",
        "eGFR = 186 × SerumCr^{-1.154} × age^{-0.203} × 1.212 \\space (\\text{if patient is Black}) × 0.742 \\space (\\text{if patient is female})\n",
        "\\end{align}\n",
        "\n",
        "\n",
        "Where: \n",
        "- eGFR is in mL/min per 1.73 m²\n",
        "- Serum Creatinine is in $mg/dL$.\n",
        "\n",
        "To convert serum creatinine from $\\mu mol/L$ to $mg/dL$, divide the value in $\\mu mol/L$ by $88.42$.\n",
        "\n",
        "\n",
        "**Exercise 18: eGFR**\n",
        "\n",
        "1.  **Write `input()` functions that takes in user-given age and serum creatinine (in $\\mu mol/L$).**\n",
        "2.  **Perform the appropriate datatype and unit conversions.**\n",
        "2.  **Calculate the eGFR from the inputs, assuming that the patient is a non-Black male.**\n",
        "\n",
        "**We will discuss how to deal with situations involving other patients in upcoming workshops.**"
      ]
    },
    {
      "cell_type": "markdown",
      "metadata": {
        "id": "fQ30kb2U4wR-",
        "colab_type": "text"
      },
      "source": [
        "Here's a bunch of existing data we can use to verify if our program is working. Compare your results to the following eGFR:\n",
        "\n",
        "- Patient A: age 32, creatinine 96 micromol/L $\\rightarrow$ eGFR 83.7 mL/min per 1.73 m²\n",
        "- Patient B: age 65, creatinine 152 micromol/L $\\rightarrow$ eGFR 42.7 mL/min per 1.73 m²"
      ]
    },
    {
      "cell_type": "code",
      "metadata": {
        "id": "j0HYamwvAGkA",
        "colab_type": "code",
        "colab": {}
      },
      "source": [
        "# Exercise 18\n",
        "# eGFR calculations"
      ],
      "execution_count": null,
      "outputs": []
    },
    {
      "cell_type": "markdown",
      "metadata": {
        "id": "n0Zh-qmg97Iu",
        "colab_type": "text"
      },
      "source": [
        "##**A-a gradient in room air**\n",
        "\n",
        "$$\\text{A-a gradient} = 150 - \\frac{Pa_{CO2}}{0.8} - Pa_{O2}$$\n",
        "\n",
        "Where A-a gradient and arterial blood gas pressures are in mmHg. Furthermore, for a given patient age, the expected gradient is\n",
        "\n",
        "$$\\text{Expected A-a}=\\frac{\\text{age}}{4}+4$$\n",
        "\n",
        "**Exercise 19: A-a gradient**\n",
        "\n",
        "1.  **Write `input()` functions that takes in user-given PaCO2, PaO2 and age. Use appropriate datatype conversions.**\n",
        "2.  **Calculate the A-a gradient from the inputs.**\n",
        "3.  **Calculate the expected A-a gradient for the patient.**"
      ]
    },
    {
      "cell_type": "markdown",
      "metadata": {
        "id": "hf6UrFlJFil-",
        "colab_type": "text"
      },
      "source": [
        "Again, test your program with the following values and see if the A-a gradients match:\n",
        "- Patient A: age 25, PaO2 90 mmHg, PaCO2 40 mmHg $\\rightarrow$ A-a gradient 10 mmHg, expected gradient 10.25 mmHg;\n",
        "- Patient B: age 50, PaO2 60 mmHg, PaCO2 45 mmHg $\\rightarrow$ A-a gradient 34 mmHg, expected gradient 16.5 mmHg;"
      ]
    },
    {
      "cell_type": "code",
      "metadata": {
        "id": "v_6HZ7C2DUEU",
        "colab_type": "code",
        "colab": {
          "base_uri": "https://localhost:8080/",
          "height": 85
        },
        "outputId": "c53e4124-85a3-4af0-a892-32db6e0da8aa"
      },
      "source": [
        "# Exercise 19\n",
        "# A-a gradient\n",
        "\n",
        "\n",
        "print(f'''allen abc\n",
        "bbb {a}\n",
        "bbb\n",
        "bbb''')"
      ],
      "execution_count": 112,
      "outputs": [
        {
          "output_type": "stream",
          "text": [
            "allen abc\n",
            "bbb\n",
            "bbb\n",
            "bbb\n"
          ],
          "name": "stdout"
        }
      ]
    },
    {
      "cell_type": "markdown",
      "metadata": {
        "id": "rBjHKaUjUEBh",
        "colab_type": "text"
      },
      "source": [
        "---\n",
        "\n",
        "# **mini-Project - Lindsay Brown**\n",
        "\n",
        "We now arrive at the finale for Workshop 2. We want you to apply all the coding knowledge you've learnt so far onto an open-ended mini-project that simulates a real-life application of coding in medicine. Your task is as follows:\n",
        "\n",
        "\n",
        "1.   You take a history from Lindsay Brown. Take the important details on history, store them in variables eg. `site`, `quality`, etc.\n",
        "2.   Create a variable called `summary`. Using f-strings, generate and assign to `summary` a patient summary (eg. in ISBAR format) that you can present to the Consultant. Print `summary`. For example, your `summary` variable might start like this:\n",
        "\n",
        "    ``summary = f\"I just spoke to {name}, a {age} year-old {gender} etc etc\"``\n",
        "\n",
        "3.   When setting up `summary`, it should be flexible enough that if the presenting history changes, `summary` will still generate a coherent summary for the new history.\n",
        "4.   There is no one right answer for this project, and don't be limited by the examples we've used. Be as creative as you like! \n",
        "\n",
        "[Link is here if the image does not display:](https://drive.google.com/uc?export=view&id=1W0Bn9Nh_zdtkEDO_occrmkV2dTrpE-Ux)\n",
        "\n",
        "![](https://drive.google.com/uc?export=view&id=1W0Bn9Nh_zdtkEDO_occrmkV2dTrpE-Ux)"
      ]
    },
    {
      "cell_type": "code",
      "metadata": {
        "id": "W8OmLntBaG7s",
        "colab_type": "code",
        "colab": {}
      },
      "source": [
        "#Lindsay Brown\n",
        "\n",
        "#Example code\n",
        "# staff_name = \"Dr Edmond\"\n",
        "# staff_position = \"intern\"\n",
        "# hospital = \"Western Health\"\n",
        "# pt_name = \"Lily Huang\"\n",
        "# pt_age = 10\n",
        "# pt_gender = \"girl\"\n",
        "# top_differential = \"Urinary Tract Infection\"\n",
        "# summary = f\"My name is {staff_name}, an {staff_position} at {hospital}. I am calling about {pt_name}, a {pt_age} year old {pt_gender} who presents with suspected {top_differential} ...\")\n",
        "# print(summary)\n",
        "\n",
        "#YOUR TURN! Give your code a cool title!\n",
        "\n",
        "#(Insert title here)\n",
        "\n"
      ],
      "execution_count": null,
      "outputs": []
    },
    {
      "cell_type": "markdown",
      "metadata": {
        "id": "F62AY76Y_pWg",
        "colab_type": "text"
      },
      "source": [
        "# **CONGRATS FOR COMPLETING WORKSHOP 2!!**\n",
        "\n",
        "Please fill out [this feedback form](https://www.tinyurl.com/MDCodingWorkshopFeedback) to help us tailor the workshops for your needs!"
      ]
    }
  ]
}